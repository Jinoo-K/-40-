{
 "cells": [
  {
   "cell_type": "code",
   "execution_count": 5,
   "metadata": {},
   "outputs": [
    {
     "name": "stderr",
     "output_type": "stream",
     "text": [
      "C:\\Users\\a9599\\AppData\\Local\\Temp\\ipykernel_15572\\3785532761.py:7: DeprecationWarning: executable_path has been deprecated, please pass in a Service object\n",
      "  driver = webdriver.Chrome(ChromeDriverManager().install())      # 크롬 드라이버 시작, 없으면 설치\n"
     ]
    }
   ],
   "source": [
    "# pip install selenium : 웹을 제어하는 라이브러리\n",
    "# pip install webdriver-manager\n",
    "\n",
    "from webdriver_manager.chrome import ChromeDriverManager        # 구글 크롬 드라이버의 설치를 위한 라이브러리\n",
    "from selenium import webdriver\n",
    "\n",
    "driver = webdriver.Chrome(ChromeDriverManager().install())      # 크롬 드라이버 시작, 없으면 설치\n",
    "\n",
    "URL=\"https://www.google.co.kr/imghp\"\n",
    "driver.get(url=URL)\n",
    "\n",
    "driver.implicitly_wait(time_to_wait=10)"
   ]
  },
  {
   "cell_type": "code",
   "execution_count": 7,
   "metadata": {},
   "outputs": [
    {
     "ename": "AttributeError",
     "evalue": "'WebDriver' object has no attribute 'find_element_by_css_selector'",
     "output_type": "error",
     "traceback": [
      "\u001b[1;31m---------------------------------------------------------------------------\u001b[0m",
      "\u001b[1;31mAttributeError\u001b[0m                            Traceback (most recent call last)",
      "\u001b[1;32mc:\\파이썬과 40개의 작품들\\19. 구글 이미지 크롤링\\main19.ipynb 셀 2\u001b[0m in \u001b[0;36m<cell line: 3>\u001b[1;34m()\u001b[0m\n\u001b[0;32m      <a href='vscode-notebook-cell:/c%3A/%ED%8C%8C%EC%9D%B4%EC%8D%AC%EA%B3%BC%2040%EA%B0%9C%EC%9D%98%20%EC%9E%91%ED%92%88%EB%93%A4/19.%20%EA%B5%AC%EA%B8%80%20%EC%9D%B4%EB%AF%B8%EC%A7%80%20%ED%81%AC%EB%A1%A4%EB%A7%81/main19.ipynb#W1sZmlsZQ%3D%3D?line=0'>1</a>\u001b[0m \u001b[39mfrom\u001b[39;00m \u001b[39mselenium\u001b[39;00m\u001b[39m.\u001b[39;00m\u001b[39mwebdriver\u001b[39;00m\u001b[39m.\u001b[39;00m\u001b[39mcommon\u001b[39;00m\u001b[39m.\u001b[39;00m\u001b[39mkeys\u001b[39;00m \u001b[39mimport\u001b[39;00m Keys\n\u001b[1;32m----> <a href='vscode-notebook-cell:/c%3A/%ED%8C%8C%EC%9D%B4%EC%8D%AC%EA%B3%BC%2040%EA%B0%9C%EC%9D%98%20%EC%9E%91%ED%92%88%EB%93%A4/19.%20%EA%B5%AC%EA%B8%80%20%EC%9D%B4%EB%AF%B8%EC%A7%80%20%ED%81%AC%EB%A1%A4%EB%A7%81/main19.ipynb#W1sZmlsZQ%3D%3D?line=2'>3</a>\u001b[0m elem \u001b[39m=\u001b[39m driver\u001b[39m.\u001b[39;49mfind_element_by_css_selector(\u001b[39m\"\u001b[39m\u001b[39m#RNNXgb > div > div.a4bIc > input\u001b[39m\u001b[39m\"\u001b[39m)       \u001b[39m# 셀레니움의 css selector을 통해 원소를 찾음\u001b[39;00m\n\u001b[0;32m      <a href='vscode-notebook-cell:/c%3A/%ED%8C%8C%EC%9D%B4%EC%8D%AC%EA%B3%BC%2040%EA%B0%9C%EC%9D%98%20%EC%9E%91%ED%92%88%EB%93%A4/19.%20%EA%B5%AC%EA%B8%80%20%EC%9D%B4%EB%AF%B8%EC%A7%80%20%ED%81%AC%EB%A1%A4%EB%A7%81/main19.ipynb#W1sZmlsZQ%3D%3D?line=3'>4</a>\u001b[0m elem\u001b[39m.\u001b[39msend_keys(\u001b[39m\"\u001b[39m\u001b[39m바다\u001b[39m\u001b[39m\"\u001b[39m)\n\u001b[0;32m      <a href='vscode-notebook-cell:/c%3A/%ED%8C%8C%EC%9D%B4%EC%8D%AC%EA%B3%BC%2040%EA%B0%9C%EC%9D%98%20%EC%9E%91%ED%92%88%EB%93%A4/19.%20%EA%B5%AC%EA%B8%80%20%EC%9D%B4%EB%AF%B8%EC%A7%80%20%ED%81%AC%EB%A1%A4%EB%A7%81/main19.ipynb#W1sZmlsZQ%3D%3D?line=4'>5</a>\u001b[0m elem\u001b[39m.\u001b[39msend_keys(Keys\u001b[39m.\u001b[39mRETURN)\n",
      "\u001b[1;31mAttributeError\u001b[0m: 'WebDriver' object has no attribute 'find_element_by_css_selector'"
     ]
    }
   ],
   "source": [
    "from selenium.webdriver.common.keys import Keys\n",
    "\n",
    "elem = driver.find_element_by_css_selector(\"#sbtc > div > div.a4bIc > input\")       # 셀레니움의 css selector을 통해 원소를 찾음\n",
    "elem.send_keys(\"바다\")\n",
    "elem.send_keys(Keys.RETURN)"
   ]
  },
  {
   "cell_type": "code",
   "execution_count": 8,
   "metadata": {},
   "outputs": [
    {
     "ename": "AttributeError",
     "evalue": "'WebDriver' object has no attribute 'find_element_by_tag_name'",
     "output_type": "error",
     "traceback": [
      "\u001b[1;31m---------------------------------------------------------------------------\u001b[0m",
      "\u001b[1;31mAttributeError\u001b[0m                            Traceback (most recent call last)",
      "\u001b[1;32mc:\\파이썬과 40개의 작품들\\19. 구글 이미지 크롤링\\main19.ipynb 셀 3\u001b[0m in \u001b[0;36m<cell line: 2>\u001b[1;34m()\u001b[0m\n\u001b[0;32m      <a href='vscode-notebook-cell:/c%3A/%ED%8C%8C%EC%9D%B4%EC%8D%AC%EA%B3%BC%2040%EA%B0%9C%EC%9D%98%20%EC%9E%91%ED%92%88%EB%93%A4/19.%20%EA%B5%AC%EA%B8%80%20%EC%9D%B4%EB%AF%B8%EC%A7%80%20%ED%81%AC%EB%A1%A4%EB%A7%81/main19.ipynb#W2sZmlsZQ%3D%3D?line=0'>1</a>\u001b[0m \u001b[39mimport\u001b[39;00m \u001b[39mtime\u001b[39;00m\n\u001b[1;32m----> <a href='vscode-notebook-cell:/c%3A/%ED%8C%8C%EC%9D%B4%EC%8D%AC%EA%B3%BC%2040%EA%B0%9C%EC%9D%98%20%EC%9E%91%ED%92%88%EB%93%A4/19.%20%EA%B5%AC%EA%B8%80%20%EC%9D%B4%EB%AF%B8%EC%A7%80%20%ED%81%AC%EB%A1%A4%EB%A7%81/main19.ipynb#W2sZmlsZQ%3D%3D?line=1'>2</a>\u001b[0m elem \u001b[39m=\u001b[39m driver\u001b[39m.\u001b[39;49mfind_element_by_tag_name(\u001b[39m\"\u001b[39m\u001b[39mbody\u001b[39m\u001b[39m\"\u001b[39m)\n\u001b[0;32m      <a href='vscode-notebook-cell:/c%3A/%ED%8C%8C%EC%9D%B4%EC%8D%AC%EA%B3%BC%2040%EA%B0%9C%EC%9D%98%20%EC%9E%91%ED%92%88%EB%93%A4/19.%20%EA%B5%AC%EA%B8%80%20%EC%9D%B4%EB%AF%B8%EC%A7%80%20%ED%81%AC%EB%A1%A4%EB%A7%81/main19.ipynb#W2sZmlsZQ%3D%3D?line=2'>3</a>\u001b[0m \u001b[39mfor\u001b[39;00m i \u001b[39min\u001b[39;00m \u001b[39mrange\u001b[39m(\u001b[39m60\u001b[39m):\n\u001b[0;32m      <a href='vscode-notebook-cell:/c%3A/%ED%8C%8C%EC%9D%B4%EC%8D%AC%EA%B3%BC%2040%EA%B0%9C%EC%9D%98%20%EC%9E%91%ED%92%88%EB%93%A4/19.%20%EA%B5%AC%EA%B8%80%20%EC%9D%B4%EB%AF%B8%EC%A7%80%20%ED%81%AC%EB%A1%A4%EB%A7%81/main19.ipynb#W2sZmlsZQ%3D%3D?line=3'>4</a>\u001b[0m     elem\u001b[39m.\u001b[39msend_keys(Keys\u001b[39m.\u001b[39mPAGE_DOWN)\n",
      "\u001b[1;31mAttributeError\u001b[0m: 'WebDriver' object has no attribute 'find_element_by_tag_name'"
     ]
    }
   ],
   "source": [
    "import time\n",
    "elem = driver.find_element_by_tag_name(\"body\")\n",
    "for i in range(60):\n",
    "    elem.send_keys(Keys.PAGE_DOWN)\n",
    "    time.sleep(0.1)\n",
    "    \n",
    "try:\n",
    "    driver.find_element_by_css_selector(\"islmp > div > div > div > div.gBPM8 > div.qvfT1 > div.YstHxe > input\").click()     # 결과더보기 버튼이 있다면 눌러서 사진 더 나오게\n",
    "    \n",
    "    for i in range(60):\n",
    "        elem.send_keys(Keys.PAGE_DOWN)\n",
    "        time.sleep(0.1)\n",
    "        \n",
    "except:\n",
    "    pass"
   ]
  },
  {
   "cell_type": "code",
   "execution_count": null,
   "metadata": {},
   "outputs": [],
   "source": [
    "links=[]\n",
    "images = driver.find_elements_by_css_selector(\"#islrg > div.islrc > div > a.wXeWr.islib.nfEiy > div.bRMDJF.islir > img\")        # 이미지의 원소를 모두 찾음\n",
    "\n",
    "for image in images :\n",
    "    if image.get_attribute(\"src\") is not None :\n",
    "        links.append(image.get_attribute(\"src\"))\n",
    "        \n",
    "print(\"찾은 이미지 개수 :\", len(links))"
   ]
  }
 ],
 "metadata": {
  "kernelspec": {
   "display_name": "Python 3.10.6 64-bit",
   "language": "python",
   "name": "python3"
  },
  "language_info": {
   "codemirror_mode": {
    "name": "ipython",
    "version": 3
   },
   "file_extension": ".py",
   "mimetype": "text/x-python",
   "name": "python",
   "nbconvert_exporter": "python",
   "pygments_lexer": "ipython3",
   "version": "3.10.6"
  },
  "orig_nbformat": 4,
  "vscode": {
   "interpreter": {
    "hash": "bb0f525858bd450196765148e344bbfd25f9695e320e9780acfca228c45ff199"
   }
  }
 },
 "nbformat": 4,
 "nbformat_minor": 2
}
