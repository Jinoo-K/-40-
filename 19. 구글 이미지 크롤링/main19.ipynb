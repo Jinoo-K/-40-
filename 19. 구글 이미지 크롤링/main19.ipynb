{
 "cells": [
  {
   "cell_type": "code",
   "execution_count": 2,
   "metadata": {},
   "outputs": [
    {
     "name": "stderr",
     "output_type": "stream",
     "text": [
      "C:\\Users\\a9599\\AppData\\Local\\Temp\\ipykernel_5256\\738751436.py:8: DeprecationWarning: executable_path has been deprecated, please pass in a Service object\n",
      "  driver = webdriver.Chrome(ChromeDriverManager().install())      # 크롬 드라이버 시작, 없으면 설치\n"
     ]
    }
   ],
   "source": [
    "# pip install selenium : 웹을 제어하는 라이브러리\n",
    "# pip install webdriver-manager\n",
    "\n",
    "from webdriver_manager.chrome import ChromeDriverManager        # 구글 크롬 드라이버의 설치를 위한 라이브러리\n",
    "from selenium import webdriver\n",
    "from selenium.webdriver.common.by import By\n",
    "\n",
    "driver = webdriver.Chrome(ChromeDriverManager().install())      # 크롬 드라이버 시작, 없으면 설치\n",
    "\n",
    "URL=\"https://www.google.co.kr/imghp\"\n",
    "driver.get(url=URL)\n",
    "\n",
    "driver.implicitly_wait(time_to_wait=10)"
   ]
  },
  {
   "cell_type": "code",
   "execution_count": 3,
   "metadata": {},
   "outputs": [],
   "source": [
    "from selenium.webdriver.common.keys import Keys\n",
    "\n",
    "elem = driver.find_element(By.CSS_SELECTOR, \"body > div.L3eUgb > div.o3j99.ikrT4e.om7nvf > form > div:nth-child(1) > div.A8SBwf > div.RNNXgb > div > div.a4bIc > input\")       # 셀레니움의 css selector을 통해 원소를 찾음\n",
    "elem.send_keys(\"바다\")\n",
    "elem.send_keys(Keys.RETURN)"
   ]
  },
  {
   "cell_type": "code",
   "execution_count": 5,
   "metadata": {},
   "outputs": [],
   "source": [
    "import time\n",
    "elem = driver.find_element(By.TAG_NAME, \"body\")\n",
    "for i in range(60):\n",
    "    elem.send_keys(Keys.PAGE_DOWN)\n",
    "    time.sleep(0.1)\n",
    "    \n",
    "try:\n",
    "    driver.find_elemen(By.CSS_SELECTOR, \"islmp > div > div > div > div.gBPM8 > div.qvfT1 > div.YstHxe > input\").click()     # 결과더보기 버튼이 있다면 눌러서 사진 더 나오게\n",
    "    \n",
    "    for i in range(60):\n",
    "        elem.send_keys(Keys.PAGE_DOWN)\n",
    "        time.sleep(0.1)\n",
    "        \n",
    "except:\n",
    "    pass"
   ]
  },
  {
   "cell_type": "code",
   "execution_count": 8,
   "metadata": {},
   "outputs": [
    {
     "name": "stdout",
     "output_type": "stream",
     "text": [
      "찾은 이미지 개수 : 319\n"
     ]
    }
   ],
   "source": [
    "links=[]\n",
    "images = driver.find_elements(By.CSS_SELECTOR, \"#islrg > div.islrc > div > a.wXeWr.islib.nfEiy > div.bRMDJf.islir > img\")        # 이미지의 원소를 모두 찾음\n",
    "\n",
    "for image in images :\n",
    "    if image.get_attribute(\"src\") is not None :\n",
    "        links.append(image.get_attribute(\"src\"))\n",
    "        \n",
    "print(\"찾은 이미지 개수 :\", len(links))\n",
    "\n",
    "#islrg > div.islrc > div:nth-child(2) > a.wXeWr.islib.nfEiy > div.bRMDJf.islir > img\n",
    "#islrg > div.islrc > div:nth-child(6) > a.wXeWr.islib.nfEiy > div.bRMDJf.islir > img\n",
    "#islrg > div.islrc > div:nth-child(19) > a.wXeWr.islib.nfEiy > div.bRMDJf.islir > img"
   ]
  },
  {
   "cell_type": "code",
   "execution_count": null,
   "metadata": {},
   "outputs": [],
   "source": [
    "import urllib.request\n",
    "\n",
    "for k,i in enumerate(links) :\n",
    "    url = i\n",
    "    urllib.request.urlretrieve(url, \"C:\\\\파이썬과 40개의 작품들\\\\19. 구글 이미지 크롤링\\\\사진다운로드\\\\\"+str(k)+\".jpg\")\n",
    "    \n",
    "print(\"다운로드 완료하였습니다.\")"
   ]
  }
 ],
 "metadata": {
  "kernelspec": {
   "display_name": "Python 3.10.6 64-bit",
   "language": "python",
   "name": "python3"
  },
  "language_info": {
   "codemirror_mode": {
    "name": "ipython",
    "version": 3
   },
   "file_extension": ".py",
   "mimetype": "text/x-python",
   "name": "python",
   "nbconvert_exporter": "python",
   "pygments_lexer": "ipython3",
   "version": "3.10.6"
  },
  "orig_nbformat": 4,
  "vscode": {
   "interpreter": {
    "hash": "bb0f525858bd450196765148e344bbfd25f9695e320e9780acfca228c45ff199"
   }
  }
 },
 "nbformat": 4,
 "nbformat_minor": 2
}
