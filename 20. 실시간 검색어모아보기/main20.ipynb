{
 "cells": [
  {
   "cell_type": "code",
   "execution_count": null,
   "metadata": {},
   "outputs": [],
   "source": [
    "from webdriver_manager.chrome import ChromeDriverManager\n",
    "from selenium import webdriver\n",
    "from selenium.webdriver.common.by import By\n",
    "\n",
    "driver = webdriver.Chrome(ChromeDriverManager().install())\n",
    "\n",
    "URL = \"https://www.google.co.kr\"\n",
    "driver.get(url=URL)\n",
    "driver.implicitly_wait(time_to_wait=10)"
   ]
  },
  {
   "cell_type": "code",
   "execution_count": null,
   "metadata": {},
   "outputs": [],
   "source": [
    "URL = \"https://signal.bz/news\"\n",
    "driver.get(url=URL)\n",
    "driver.implicitly_wait(time_to_wait=10)\n",
    "\n",
    "naver_results = driver.find_elements(By.CSS_SELECTOR, \"#app > div > main > div > section > div > section > section:nth-child(2) > div:nth-child(2) > div > div > div > a > span.rank-text\")\n",
    "# 셀레니움의 문법이 바뀜 기존 driver.find_elements_by_***(\"$$$$\") => driver.find_elements(By.***, \"$$$$\")\n",
    "\n",
    "naver_list = []\n",
    "for naver_result in naver_results :\n",
    "    print(naver_result.text)\n",
    "    naver_list.append(naver_result.text)\n"
   ]
  },
  {
   "cell_type": "code",
   "execution_count": null,
   "metadata": {},
   "outputs": [],
   "source": [
    "URL = \"https://www.nate.com\"\n",
    "driver.get(url=URL)\n",
    "driver.implicitly_wait(time_to_wait=10)\n",
    "\n",
    "elem = driver.find_element(By.CSS_SELECTOR, \"#olLiveIssueKeyword > li:nth-child(1) > a > span.txt_rank\").click()\n",
    "\n",
    "nate_results = driver.find_elements(By.CSS_SELECTOR, \"#search-option > form:nth-child(1) > fieldset > div.issue-kwd > span > a\")\n",
    "\n",
    "nate_list = []\n",
    "for nate_result in nate_results :\n",
    "    print(nate_result.text)\n",
    "    nate_list.append(nate_result.text)\n"
   ]
  },
  {
   "cell_type": "code",
   "execution_count": null,
   "metadata": {},
   "outputs": [],
   "source": [
    "import time\n",
    "\n",
    "URL=\"https://zum.com\"\n",
    "driver.get(url=URL)\n",
    "driver.implicitly_wait(time_to_wait=10)\n",
    "\n",
    "driver.find_element(By.CSS_SELECTOR, \"#search-input\").send_keys(\"아무거나\")\n",
    "time.sleep(0.5)\n",
    "driver.find_element(By.CSS_SELECTOR, \"#app > div > header > div.search_bar > div > fieldset > div > button.search\").click()\n",
    "time.sleep(1)\n",
    "\n",
    "zoom_results = driver.find_elements(By.CSS_SELECTOR, \"#issue_wrap > ul > li > div > a:nth-child(1) > span.txt\")\n",
    "\n",
    "zoom_list = []\n",
    "for zoom_result in zoom_results :\n",
    "    print(zoom_result.text)\n",
    "    zoom_list.append(zoom_result.text)\n"
   ]
  },
  {
   "cell_type": "code",
   "execution_count": null,
   "metadata": {},
   "outputs": [],
   "source": [
    "print(\"네이버\", naver_list)\n",
    "print(\"네이트\", nate_list)\n",
    "print(\"줌\", zoom_list)"
   ]
  }
 ],
 "metadata": {
  "kernelspec": {
   "display_name": "Python 3.10.6 64-bit",
   "language": "python",
   "name": "python3"
  },
  "language_info": {
   "codemirror_mode": {
    "name": "ipython",
    "version": 3
   },
   "file_extension": ".py",
   "mimetype": "text/x-python",
   "name": "python",
   "nbconvert_exporter": "python",
   "pygments_lexer": "ipython3",
   "version": "3.10.6"
  },
  "orig_nbformat": 4,
  "vscode": {
   "interpreter": {
    "hash": "bb0f525858bd450196765148e344bbfd25f9695e320e9780acfca228c45ff199"
   }
  }
 },
 "nbformat": 4,
 "nbformat_minor": 2
}
