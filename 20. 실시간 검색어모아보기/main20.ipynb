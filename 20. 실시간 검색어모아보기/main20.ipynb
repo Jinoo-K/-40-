{
 "cells": [
  {
   "cell_type": "code",
   "execution_count": 17,
   "metadata": {},
   "outputs": [
    {
     "name": "stderr",
     "output_type": "stream",
     "text": [
      "C:\\Users\\a9599\\AppData\\Local\\Temp\\ipykernel_21436\\2305720088.py:5: DeprecationWarning: executable_path has been deprecated, please pass in a Service object\n",
      "  driver = webdriver.Chrome(ChromeDriverManager().install())\n"
     ]
    }
   ],
   "source": [
    "from webdriver_manager.chrome import ChromeDriverManager\n",
    "from selenium import webdriver\n",
    "from selenium.webdriver.common.by import By\n",
    "\n",
    "driver = webdriver.Chrome(ChromeDriverManager().install())\n",
    "\n",
    "URL = \"https://www.google.co.kr\"\n",
    "driver.get(url=URL)\n",
    "driver.implicitly_wait(time_to_wait=10)"
   ]
  },
  {
   "cell_type": "code",
   "execution_count": 18,
   "metadata": {},
   "outputs": [
    {
     "name": "stdout",
     "output_type": "stream",
     "text": [
      "50대 여배우\n",
      "황동혁 이정재에 축전\n",
      "임세령\n",
      "황금가면\n",
      "박수홍 친형 구속\n",
      "태풍경로 현재위치\n",
      "비밀의 집\n",
      "이재용\n",
      "수리남\n",
      "쥴리 의혹 기소\n"
     ]
    }
   ],
   "source": [
    "URL = \"https://signal.bz/news\"\n",
    "driver.get(url=URL)\n",
    "driver.implicitly_wait(time_to_wait=10)\n",
    "\n",
    "naver_results = driver.find_elements(By.CSS_SELECTOR, \"#app > div > main > div > section > div > section > section:nth-child(2) > div:nth-child(2) > div > div > div > a > span.rank-text\")\n",
    "# 셀레니움의 문법이 바뀜 기존 driver.find_elements_by_***(\"$$$$\") => driver.find_elements(By.***, \"$$$$\")\n",
    "\n",
    "naver_list = []\n",
    "for naver_result in naver_results :\n",
    "    print(naver_result.text)\n",
    "    naver_list.append(naver_result.text)\n"
   ]
  },
  {
   "cell_type": "code",
   "execution_count": 28,
   "metadata": {},
   "outputs": [
    {
     "name": "stdout",
     "output_type": "stream",
     "text": [
      "50대 여배우\n",
      "황금가면\n",
      "박수홍 친형 구속\n",
      "특검 고 이예람\n",
      "비밀의 집\n",
      "쥴리 의혹 기소\n",
      "이정재 에미상 수상\n",
      "TBS 서울시 폐지되나\n",
      "로꼬 2년 동갑내기\n",
      "\n"
     ]
    }
   ],
   "source": [
    "URL = \"https://www.nate.com\"\n",
    "driver.get(url=URL)\n",
    "driver.implicitly_wait(time_to_wait=10)\n",
    "\n",
    "elem = driver.find_element(By.CSS_SELECTOR, \"#olLiveIssueKeyword > li:nth-child(1) > a > span.txt_rank\").click()\n",
    "\n",
    "nate_results = driver.find_elements(By.CSS_SELECTOR, \"#search-option > form:nth-child(1) > fieldset > div.issue-kwd > span > a\")\n",
    "\n",
    "nate_list = []\n",
    "for nate_result in nate_results :\n",
    "    print(nate_result.text)\n",
    "    nate_list.append(nate_result.text)\n"
   ]
  },
  {
   "cell_type": "code",
   "execution_count": 33,
   "metadata": {},
   "outputs": [
    {
     "name": "stdout",
     "output_type": "stream",
     "text": [
      "임세령\n",
      "50대 여배우\n",
      "이정재\n",
      "태풍경로 현재위치\n",
      "이상보\n",
      "수리남\n",
      "아이유\n",
      "김호중\n",
      "이재명\n",
      "송가인\n"
     ]
    }
   ],
   "source": [
    "import time\n",
    "\n",
    "URL=\"https://zum.com\"\n",
    "driver.get(url=URL)\n",
    "driver.implicitly_wait(time_to_wait=10)\n",
    "\n",
    "driver.find_element(By.CSS_SELECTOR, \"#search-input\").send_keys(\"아무거나\")\n",
    "time.sleep(0.5)\n",
    "driver.find_element(By.CSS_SELECTOR, \"#app > div > header > div.search_bar > div > fieldset > div > button.search\").click()\n",
    "time.sleep(1)\n",
    "\n",
    "zoom_results = driver.find_elements(By.CSS_SELECTOR, \"#issue_wrap > ul > li > div > a:nth-child(1) > span.txt\")\n",
    "\n",
    "zoom_list = []\n",
    "for zoom_result in zoom_results :\n",
    "    print(zoom_result.text)\n",
    "    zoom_list.append(zoom_result.text)\n"
   ]
  },
  {
   "cell_type": "code",
   "execution_count": 34,
   "metadata": {},
   "outputs": [
    {
     "name": "stdout",
     "output_type": "stream",
     "text": [
      "네이버 ['50대 여배우', '황동혁 이정재에 축전', '임세령', '황금가면', '박수홍 친형 구속', '태풍경로 현재위치', '비밀의 집', '이재용', '수리남', '쥴리 의혹 기소']\n",
      "네이트 ['50대 여배우', '황금가면', '박수홍 친형 구속', '특검 고 이예람', '비밀의 집', '쥴리 의혹 기소', '이정재 에미상 수상', 'TBS 서울시 폐지되나', '로꼬 2년 동갑내기', '']\n",
      "줌 ['임세령', '50대 여배우', '이정재', '태풍경로 현재위치', '이상보', '수리남', '아이유', '김호중', '이재명', '송가인']\n"
     ]
    }
   ],
   "source": [
    "print(\"네이버\", naver_list)\n",
    "print(\"네이트\", nate_list)\n",
    "print(\"줌\", zoom_list)"
   ]
  }
 ],
 "metadata": {
  "kernelspec": {
   "display_name": "Python 3.10.6 64-bit",
   "language": "python",
   "name": "python3"
  },
  "language_info": {
   "codemirror_mode": {
    "name": "ipython",
    "version": 3
   },
   "file_extension": ".py",
   "mimetype": "text/x-python",
   "name": "python",
   "nbconvert_exporter": "python",
   "pygments_lexer": "ipython3",
   "version": "3.10.6"
  },
  "orig_nbformat": 4,
  "vscode": {
   "interpreter": {
    "hash": "bb0f525858bd450196765148e344bbfd25f9695e320e9780acfca228c45ff199"
   }
  }
 },
 "nbformat": 4,
 "nbformat_minor": 2
}
