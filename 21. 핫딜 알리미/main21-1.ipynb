{
 "cells": [
  {
   "cell_type": "code",
   "execution_count": null,
   "metadata": {},
   "outputs": [],
   "source": [
    "from webdriver_manager.chrome import ChromeDriverManager\n",
    "from selenium import webdriver\n",
    "\n",
    "driver = webdriver.Chrome(ChromeDriverManager().install())\n",
    "\n",
    "driver.get(url=\"https://www.ppomppu.co.kr/zboard/zboard.php?id=ppomppu\")\n",
    "\n",
    "driver.implicitly_wait(time_to_wait=10)"
   ]
  },
  {
   "cell_type": "code",
   "execution_count": null,
   "metadata": {},
   "outputs": [],
   "source": [
    "from selenium.webdriver.common.by import By\n",
    "\n",
    "titles = driver.find_elements(By.CSS_SELECTOR, \"#revolution_main_table > tbody > tr > td > table > tbody > tr > td:nth-child(2) > div > a > font\")\n",
    "urls = driver.find_elements(By.CSS_SELECTOR, \"#revolution_main_table > tbody > tr > td > table > tbody > tr > td:nth-child(2) > div > a\")\n",
    "\n",
    "for i in range(len(titles)) :\n",
    "    print(titles[i].text)\n",
    "    print(urls[i].get_attribute(\"href\"))"
   ]
  },
  {
   "cell_type": "code",
   "execution_count": null,
   "metadata": {},
   "outputs": [],
   "source": [
    "import telegram\n",
    "\n",
    "message = \"\"\n",
    "for i in range(len(titles)):\n",
    "    if \"김치\" in titles[i].text:\n",
    "        message = titles[i].text + \"\\n\" + urls[i].get_attribute(\"href\")\n",
    "        print(message)\n",
    "        token = \"\"\n",
    "        id = \"\"\n",
    "        bot = telegram.Bot(token)\n",
    "        bot.sendMessage(chat_id=id, text=message)"
   ]
  }
 ],
 "metadata": {
  "kernelspec": {
   "display_name": "Python 3.10.6 64-bit",
   "language": "python",
   "name": "python3"
  },
  "language_info": {
   "codemirror_mode": {
    "name": "ipython",
    "version": 3
   },
   "file_extension": ".py",
   "mimetype": "text/x-python",
   "name": "python",
   "nbconvert_exporter": "python",
   "pygments_lexer": "ipython3",
   "version": "3.10.6"
  },
  "orig_nbformat": 4,
  "vscode": {
   "interpreter": {
    "hash": "bb0f525858bd450196765148e344bbfd25f9695e320e9780acfca228c45ff199"
   }
  }
 },
 "nbformat": 4,
 "nbformat_minor": 2
}
